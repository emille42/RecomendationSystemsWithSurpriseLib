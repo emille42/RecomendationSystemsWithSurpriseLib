{
 "cells": [
  {
   "attachments": {},
   "cell_type": "markdown",
   "metadata": {},
   "source": [
    "# IMPORTS"
   ]
  },
  {
   "cell_type": "code",
   "execution_count": 40,
   "metadata": {},
   "outputs": [],
   "source": [
    "import numpy as np\n",
    "import pandas as pd\n",
    "import matplotlib.pyplot as plt\n",
    "from surprise import SVD\n",
    "from surprise import Dataset, Reader\n",
    "from surprise.model_selection import train_test_split, cross_validate"
   ]
  },
  {
   "attachments": {},
   "cell_type": "markdown",
   "metadata": {},
   "source": [
    "# EDA"
   ]
  },
  {
   "cell_type": "code",
   "execution_count": 23,
   "metadata": {},
   "outputs": [
    {
     "data": {
      "text/html": [
       "<div>\n",
       "<style scoped>\n",
       "    .dataframe tbody tr th:only-of-type {\n",
       "        vertical-align: middle;\n",
       "    }\n",
       "\n",
       "    .dataframe tbody tr th {\n",
       "        vertical-align: top;\n",
       "    }\n",
       "\n",
       "    .dataframe thead th {\n",
       "        text-align: right;\n",
       "    }\n",
       "</style>\n",
       "<table border=\"1\" class=\"dataframe\">\n",
       "  <thead>\n",
       "    <tr style=\"text-align: right;\">\n",
       "      <th></th>\n",
       "      <th>itemID</th>\n",
       "      <th>userID</th>\n",
       "      <th>rating</th>\n",
       "      <th>unixTime</th>\n",
       "    </tr>\n",
       "  </thead>\n",
       "  <tbody>\n",
       "    <tr>\n",
       "      <th>339</th>\n",
       "      <td>0848724666</td>\n",
       "      <td>A1GQNHNSSQSH8U</td>\n",
       "      <td>5.0</td>\n",
       "      <td>893462400</td>\n",
       "    </tr>\n",
       "    <tr>\n",
       "      <th>338</th>\n",
       "      <td>0848724666</td>\n",
       "      <td>ANING5CFNQ5SR</td>\n",
       "      <td>5.0</td>\n",
       "      <td>909964800</td>\n",
       "    </tr>\n",
       "    <tr>\n",
       "      <th>520</th>\n",
       "      <td>0930113187</td>\n",
       "      <td>A5DLIHAPW697S</td>\n",
       "      <td>1.0</td>\n",
       "      <td>935884800</td>\n",
       "    </tr>\n",
       "  </tbody>\n",
       "</table>\n",
       "</div>"
      ],
      "text/plain": [
       "         itemID          userID  rating   unixTime\n",
       "339  0848724666  A1GQNHNSSQSH8U     5.0  893462400\n",
       "338  0848724666   ANING5CFNQ5SR     5.0  909964800\n",
       "520  0930113187   A5DLIHAPW697S     1.0  935884800"
      ]
     },
     "execution_count": 23,
     "metadata": {},
     "output_type": "execute_result"
    }
   ],
   "source": [
    "column_names = ['itemID', 'userID', 'rating', 'unixTime']\n",
    "dataset = pd.read_csv(\"../datasets/Arts_Crafts_and_Sewing.csv\", header=None)\n",
    "dataset.columns = column_names\n",
    "dataset = dataset.sort_values(by='unixTime')\n",
    "dataset.head(3)"
   ]
  },
  {
   "cell_type": "code",
   "execution_count": 87,
   "metadata": {},
   "outputs": [
    {
     "data": {
      "image/png": "[encoded data removed]",
      "text/plain": [
       "<Figure size 640x480 with 1 Axes>"
      ]
     },
     "metadata": {},
     "output_type": "display_data"
    }
   ],
   "source": [
    "# Распределение оценок\n",
    "counts = dataset['rating'].value_counts().to_list()\n",
    "rating_names = dataset['rating'].value_counts().index.to_list()\n",
    "plt.bar(rating_names, counts)\n",
    "plt.ticklabel_format(scilimits=(1, 7))\n",
    "plt.show()"
   ]
  },
  {
   "cell_type": "code",
   "execution_count": 80,
   "metadata": {},
   "outputs": [
    {
     "data": {
      "text/plain": [
       "302809"
      ]
     },
     "execution_count": 80,
     "metadata": {},
     "output_type": "execute_result"
    }
   ],
   "source": [
    "# Количество уникальных товаров\n",
    "len(dataset['itemID'].unique())"
   ]
  },
  {
   "cell_type": "code",
   "execution_count": 88,
   "metadata": {},
   "outputs": [
    {
     "data": {
      "text/plain": [
       "1579230"
      ]
     },
     "execution_count": 88,
     "metadata": {},
     "output_type": "execute_result"
    }
   ],
   "source": [
    "# Количество уникальных пользователей\n",
    "len(dataset['userID'].unique())"
   ]
  },
  {
   "attachments": {},
   "cell_type": "markdown",
   "metadata": {},
   "source": [
    "# Baseline (SVD) Cross Validation With Surprise Lib"
   ]
  },
  {
   "cell_type": "code",
   "execution_count": 39,
   "metadata": {},
   "outputs": [
    {
     "name": "stdout",
     "output_type": "stream",
     "text": [
      "Evaluating RMSE, MAE of algorithm SVD on 5 split(s).\n",
      "\n",
      "                  Fold 1  Fold 2  Fold 3  Fold 4  Fold 5  Mean    Std     \n",
      "RMSE (testset)    1.1024  1.1069  1.1054  1.1085  1.1040  1.1054  0.0021  \n",
      "MAE (testset)     0.7992  0.8029  0.8020  0.8034  0.8011  0.8017  0.0015  \n",
      "Fit time          113.27  110.16  108.94  110.67  115.17  111.64  2.26    \n",
      "Test time         29.09   18.72   13.29   13.38   18.85   18.67   5.75    \n"
     ]
    },
    {
     "data": {
      "text/plain": [
       "{'test_rmse': array([1.10239539, 1.10687806, 1.10542096, 1.10851411, 1.10397814]),\n",
       " 'test_mae': array([0.7992441 , 0.80289754, 0.80197549, 0.80342259, 0.80109089]),\n",
       " 'fit_time': (113.2733268737793,\n",
       "  110.1550965309143,\n",
       "  108.94468927383423,\n",
       "  110.66981863975525,\n",
       "  115.17165565490723),\n",
       " 'test_time': (29.087817192077637,\n",
       "  18.718040704727173,\n",
       "  13.285956621170044,\n",
       "  13.38286566734314,\n",
       "  18.85197377204895)}"
      ]
     },
     "execution_count": 39,
     "metadata": {},
     "output_type": "execute_result"
    }
   ],
   "source": [
    "reader = Reader(line_format=\"item user rating timestamp\", rating_scale=(1,5),  sep=\",\")\n",
    "data = Dataset.load_from_file(file_path=\"../datasets/Arts_Crafts_and_Sewing.csv\", reader=reader)\n",
    "cross_validate(SVD(),data, measures=['RMSE', 'MAE'], cv=5, verbose=True)"
   ]
  }
 ],
 "metadata": {
  "kernelspec": {
   "display_name": "Python 3",
   "language": "python",
   "name": "python3"
  },
  "language_info": {
   "codemirror_mode": {
    "name": "ipython",
    "version": 3
   },
   "file_extension": ".py",
   "mimetype": "text/x-python",
   "name": "python",
   "nbconvert_exporter": "python",
   "pygments_lexer": "ipython3",
   "version": "3.10.11"
  },
  "orig_nbformat": 4
 },
 "nbformat": 4,
 "nbformat_minor": 2
}
